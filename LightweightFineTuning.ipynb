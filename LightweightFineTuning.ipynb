{
 "cells": [
  {
   "cell_type": "markdown",
   "id": "70b8dd20-383b-477e-b235-57f7ef897d0f",
   "metadata": {},
   "source": [
    "# Parameter Efficient Fine Tuning\n",
    "\n",
    "##### Description\n",
    "\n",
    "The parameter-efficient fine-tuning is applied here using the Hugging Face peft library\n",
    "\n",
    "1. Load a pre-trained model and evaluate its performance\n",
    "2. Perform parameter-efficient fine tuning using the pre-trained model\n",
    "4. Evaluate the fine-tuned model and compare its performance to the original model\n",
    "\n",
    "\n",
    "##### Main Components\n",
    "\n",
    "- PEFT technique: LoRA\n",
    "- Model: gpt2\n",
    "- Evaluation approach: Transformer trainer\n",
    "- Dataset: `sms_spam`\n",
    "\n",
    " \n"
   ]
  },
  {
   "cell_type": "markdown",
   "id": "d95fe084-b357-4421-b878-ee76f55efbfb",
   "metadata": {},
   "source": [
    "# Load libraries"
   ]
  },
  {
   "cell_type": "code",
   "execution_count": 1,
   "id": "15473c47-39f2-49f6-8d1f-b22d31fd7ca5",
   "metadata": {},
   "outputs": [],
   "source": [
    "from transformers import (\n",
    "                AutoModelForSequenceClassification, \n",
    "                AutoTokenizer,\n",
    "                Trainer, \n",
    "                TrainingArguments, \n",
    "                DataCollatorWithPadding\n",
    ")\n",
    "from datasets import load_dataset\n",
    "from peft import LoraConfig, get_peft_model, TaskType, AutoPeftModelForSequenceClassification\n",
    "import numpy as np\n",
    "import torch\n"
   ]
  },
  {
   "cell_type": "markdown",
   "id": "37028c17-e4db-42a6-86e6-ba95f25925bb",
   "metadata": {},
   "source": [
    "# 1) Prepare the Foundation Model"
   ]
  },
  {
   "cell_type": "markdown",
   "id": "f050959d-7498-4ee3-9311-825530f654f0",
   "metadata": {},
   "source": [
    "## Load a pretrained HF model"
   ]
  },
  {
   "cell_type": "code",
   "execution_count": 2,
   "id": "99128ed4-16a9-4bd8-8044-fae37593ef69",
   "metadata": {},
   "outputs": [],
   "source": [
    "# Load the sms_spam dataset\n",
    "# Source: https://huggingface.co/datasets/sms_spam\n",
    "\n",
    "# The sms_spam dataset only has a train split, so we use the train_test_split \n",
    "# method to split it into train and test\n",
    "dataset = load_dataset(\"sms_spam\", split=\"train\").train_test_split(\n",
    "    test_size=0.2, shuffle=True, seed=23\n",
    ")"
   ]
  },
  {
   "cell_type": "markdown",
   "id": "b0fd8171-d60c-42ef-82c5-9eb694e87ffb",
   "metadata": {},
   "source": [
    "## Load the pretrained HF model and preprocess the dataset"
   ]
  },
  {
   "cell_type": "code",
   "execution_count": 3,
   "id": "7f86c879-d3d1-44a1-8619-4a496c74f15b",
   "metadata": {},
   "outputs": [
    {
     "name": "stderr",
     "output_type": "stream",
     "text": [
      "/Users/badiaa/Perso/Edu/AI/udacity/chatbot2/chatbot2env/lib/python3.10/site-packages/huggingface_hub/file_download.py:1132: FutureWarning: `resume_download` is deprecated and will be removed in version 1.0.0. Downloads always resume when possible. If you want to force a new download, use `force_download=True`.\n",
      "  warnings.warn(\n"
     ]
    }
   ],
   "source": [
    "\n",
    "tokenizer = AutoTokenizer.from_pretrained(\"gpt2\")\n",
    "# Set pad token as eos\n",
    "tokenizer.pad_token = tokenizer.eos_token\n",
    "\n",
    "# Tokenize the dataset function\n",
    "def tokenize(batch):\n",
    "    return tokenizer(batch[\"sms\"], padding=\"max_length\", truncation=True)\n",
    "\n",
    "# Tokenize the train and test sets\n",
    "train_dataset = dataset[\"train\"].map(tokenize, batched=True)\n",
    "test_dataset = dataset[\"test\"].map(tokenize, batched=True)"
   ]
  },
  {
   "cell_type": "code",
   "execution_count": 4,
   "id": "78e1770a-fc2e-44cd-bde9-9c4a9b46600e",
   "metadata": {},
   "outputs": [
    {
     "data": {
      "text/plain": [
       "Dataset({\n",
       "    features: ['sms', 'label', 'input_ids', 'attention_mask'],\n",
       "    num_rows: 4459\n",
       "})"
      ]
     },
     "execution_count": 4,
     "metadata": {},
     "output_type": "execute_result"
    }
   ],
   "source": [
    "train_dataset"
   ]
  },
  {
   "cell_type": "code",
   "execution_count": 5,
   "id": "83332096-e6ab-43f5-afa5-3f991ba1588d",
   "metadata": {},
   "outputs": [
    {
     "name": "stdout",
     "output_type": "stream",
     "text": [
      "Had your mobile 10 mths? Update to the latest Camera/Video phones for FREE. KEEP UR SAME NUMBER, Get extra free mins/texts. Text YES for a call\n",
      "\n",
      "1\n"
     ]
    }
   ],
   "source": [
    "# Inspect the first row\n",
    "print(train_dataset[0][\"sms\"])\n",
    "print(train_dataset[0][\"label\"])"
   ]
  },
  {
   "cell_type": "code",
   "execution_count": 6,
   "id": "8a37ddec-a386-4d41-b271-74d4dc5df806",
   "metadata": {},
   "outputs": [
    {
     "data": {
      "text/plain": [
       "Dataset({\n",
       "    features: ['sms', 'label', 'input_ids', 'attention_mask'],\n",
       "    num_rows: 1115\n",
       "})"
      ]
     },
     "execution_count": 6,
     "metadata": {},
     "output_type": "execute_result"
    }
   ],
   "source": [
    "test_dataset"
   ]
  },
  {
   "cell_type": "code",
   "execution_count": 7,
   "id": "4458c509-672e-417e-b3ae-227eed25a144",
   "metadata": {},
   "outputs": [
    {
     "name": "stdout",
     "output_type": "stream",
     "text": [
      "Yup... Hey then one day on fri we can ask miwa and jiayin take leave go karaoke \n",
      "\n",
      "0\n"
     ]
    }
   ],
   "source": [
    "# Inspect the first row\n",
    "print(test_dataset[0][\"sms\"])\n",
    "print(test_dataset[0][\"label\"])"
   ]
  },
  {
   "cell_type": "code",
   "execution_count": 8,
   "id": "ac79074d-2569-405f-a902-d91890f4cbd7",
   "metadata": {},
   "outputs": [
    {
     "name": "stderr",
     "output_type": "stream",
     "text": [
      "Some weights of GPT2ForSequenceClassification were not initialized from the model checkpoint at gpt2 and are newly initialized: ['score.weight']\n",
      "You should probably TRAIN this model on a down-stream task to be able to use it for predictions and inference.\n"
     ]
    }
   ],
   "source": [
    "\n",
    "foundation_model = AutoModelForSequenceClassification.from_pretrained(\n",
    "    \"gpt2\", \n",
    "    num_labels=2,\n",
    "    id2label={0: \"not spam\", 1: \"spam\"},\n",
    "    label2id={\"not spam\": 0, \"spam\": 1},\n",
    ")\n",
    "\n",
    "foundation_model.config.pad_token_id = tokenizer.pad_token_id"
   ]
  },
  {
   "cell_type": "code",
   "execution_count": 9,
   "id": "cfe94119-0b18-4645-a5a8-528e6e0365f0",
   "metadata": {},
   "outputs": [],
   "source": [
    "#print(foundation_model)"
   ]
  },
  {
   "cell_type": "markdown",
   "id": "82fb8256-8734-42df-b9e4-32565f149378",
   "metadata": {},
   "source": [
    "## Evaluate the pretrained model"
   ]
  },
  {
   "cell_type": "code",
   "execution_count": 10,
   "id": "1ab05cc2-5d75-4031-9bb2-c16f5935a6e3",
   "metadata": {},
   "outputs": [],
   "source": [
    "def compute_metrics(eval_pred):\n",
    "    \"\"\"\n",
    "    Function for compute tha accuracy metric\n",
    "    :eval_pred: a tuple with predictions and labels\n",
    "    \n",
    "    :returns: a dictionary with the mean accuracy\n",
    "    \"\"\"\n",
    "    predictions, labels = eval_pred\n",
    "    # Convert the predictions to discrete labels by taking the argmax,\n",
    "    # which is the index of the highest value in the prediction (logits).\n",
    "    predictions = np.argmax(predictions, axis=1)\n",
    "    # Calculate and return the accuracy as the mean of the instances where\n",
    "    # predictions match the true labels.\n",
    "    return {\"accuracy\": (predictions == labels).mean()}"
   ]
  },
  {
   "cell_type": "code",
   "execution_count": 11,
   "id": "7656d443-a9f8-434c-96f9-2725f0c06b5d",
   "metadata": {},
   "outputs": [],
   "source": [
    "# The HuggingFace Trainer class handles the training and eval loop for PyTorch.\n",
    "# Initialize the Trainer, a high-level API for training transformer models.\n",
    "training_args = TrainingArguments(\n",
    "    output_dir=\"./model_output\", # Directory where the model outputs will be saved.\n",
    "    learning_rate=2e-5, # Learning rate for the optimizer.\n",
    "    per_device_train_batch_size=16, # Batch size for training per device.\n",
    "    per_device_eval_batch_size=16, # Batch size for evaluation per device.\n",
    "    num_train_epochs=1, # Number of training epochs.\n",
    "    weight_decay=0.01, # Weight decay for regularization.\n",
    "    evaluation_strategy=\"epoch\", # Evaluation is performed at the end of each epoch.\n",
    "    save_strategy=\"epoch\", # Model is saved at the end of each epoch.\n",
    "    load_best_model_at_end=True, # Load the best model at the end of training.\n",
    ")\n",
    "\n",
    "pretrain_trainer = Trainer(\n",
    "    model=foundation_model,\n",
    "    args=training_args,\n",
    "    train_dataset=train_dataset,\n",
    "    eval_dataset=test_dataset,\n",
    "    tokenizer=tokenizer,\n",
    "    data_collator=DataCollatorWithPadding(tokenizer=tokenizer),\n",
    "    compute_metrics=compute_metrics,\n",
    ")"
   ]
  },
  {
   "cell_type": "code",
   "execution_count": 12,
   "id": "86164921-be92-4722-b1a5-6bac614f6dce",
   "metadata": {},
   "outputs": [
    {
     "name": "stderr",
     "output_type": "stream",
     "text": [
      "The following columns in the evaluation set don't have a corresponding argument in `GPT2ForSequenceClassification.forward` and have been ignored: sms. If sms are not expected by `GPT2ForSequenceClassification.forward`,  you can safely ignore this message.\n",
      "***** Running Evaluation *****\n",
      "  Num examples = 1115\n",
      "  Batch size = 16\n",
      "You're using a GPT2TokenizerFast tokenizer. Please note that with a fast tokenizer, using the `__call__` method is faster than using a method to encode the text followed by a call to the `pad` method to get a padded encoding.\n"
     ]
    },
    {
     "data": {
      "text/html": [
       "\n",
       "    <div>\n",
       "      \n",
       "      <progress value='70' max='70' style='width:300px; height:20px; vertical-align: middle;'></progress>\n",
       "      [70/70 17:01]\n",
       "    </div>\n",
       "    "
      ],
      "text/plain": [
       "<IPython.core.display.HTML object>"
      ]
     },
     "metadata": {},
     "output_type": "display_data"
    }
   ],
   "source": [
    "# Evaluate the model on the validation set before fine-tuning\n",
    "pretrain_results = pretrain_trainer.evaluate()"
   ]
  },
  {
   "cell_type": "code",
   "execution_count": 13,
   "id": "96b7d138-7501-4256-bfc9-44251f150e82",
   "metadata": {},
   "outputs": [
    {
     "name": "stdout",
     "output_type": "stream",
     "text": [
      "{'eval_loss': 2.675537109375, 'eval_accuracy': 0.12914798206278028, 'eval_runtime': 1033.2615, 'eval_samples_per_second': 1.079, 'eval_steps_per_second': 0.068}\n"
     ]
    }
   ],
   "source": [
    "print(pretrain_results)"
   ]
  },
  {
   "cell_type": "markdown",
   "id": "5d220663-3f43-42bf-983d-3458a529f05d",
   "metadata": {},
   "source": [
    "# 2) Perform Lightweight Fine-Tuning"
   ]
  },
  {
   "cell_type": "markdown",
   "id": "e1bb6d19-c1df-480b-af42-ce56ffa62f1d",
   "metadata": {},
   "source": [
    "## Create a PEFT config"
   ]
  },
  {
   "cell_type": "code",
   "execution_count": 14,
   "id": "0144aba6-0481-4136-9008-2f9d3f2747ff",
   "metadata": {},
   "outputs": [],
   "source": [
    "config = LoraConfig(task_type=TaskType.SEQ_CLS,\n",
    "    inference_mode=False,\n",
    "    r=4,\n",
    "    lora_alpha=16,\n",
    "    lora_dropout=0.1)"
   ]
  },
  {
   "cell_type": "markdown",
   "id": "ea3fa8bb-1062-4ec0-8635-8ea43eef4df2",
   "metadata": {},
   "source": [
    "## Create a PEFT model"
   ]
  },
  {
   "cell_type": "markdown",
   "id": "f96a7ecf-13fd-46f0-8777-0a22ae761519",
   "metadata": {},
   "source": [
    "## Get a trainable PEFT model"
   ]
  },
  {
   "cell_type": "code",
   "execution_count": 15,
   "id": "e7fa4fe2-ab00-40d2-91cb-ec4e0de55116",
   "metadata": {},
   "outputs": [
    {
     "name": "stderr",
     "output_type": "stream",
     "text": [
      "/Users/badiaa/Perso/Edu/AI/udacity/chatbot2/chatbot2env/lib/python3.10/site-packages/peft/tuners/lora/layer.py:1119: UserWarning: fan_in_fan_out is set to False but the target module is `Conv1D`. Setting fan_in_fan_out to True.\n",
      "  warnings.warn(\n"
     ]
    }
   ],
   "source": [
    "lora_model = get_peft_model(foundation_model, config)"
   ]
  },
  {
   "cell_type": "code",
   "execution_count": 16,
   "id": "595f7325-0984-41dc-b822-cbd13dd9cc31",
   "metadata": {},
   "outputs": [
    {
     "name": "stdout",
     "output_type": "stream",
     "text": [
      "trainable params: 148,992 || all params: 124,590,336 || trainable%: 0.1196\n"
     ]
    }
   ],
   "source": [
    "lora_model.print_trainable_parameters()"
   ]
  },
  {
   "cell_type": "markdown",
   "id": "265b5213-1787-4beb-b869-fb8806d6ce0d",
   "metadata": {},
   "source": [
    "## Train the PEFT model"
   ]
  },
  {
   "cell_type": "code",
   "execution_count": 17,
   "id": "02da4995-cf3f-4961-aae2-1665ba6fb805",
   "metadata": {},
   "outputs": [
    {
     "name": "stderr",
     "output_type": "stream",
     "text": [
      "PyTorch: setting up devices\n",
      "The default value for the training argument `--report_to` will change in v5 (from all installed integrations to none). In v5, you will need to use `--report_to all` to get the same behavior as now. You should start updating your code and make this info disappear :-).\n"
     ]
    }
   ],
   "source": [
    "# Initialize the Trainer's arguments\n",
    "peft_training_args = TrainingArguments(\n",
    "    output_dir=\"./results/peft_model\",\n",
    "    learning_rate=2e-5,\n",
    "    per_device_train_batch_size=16,\n",
    "    per_device_eval_batch_size=16,\n",
    "    num_train_epochs=1,\n",
    "    weight_decay=0.01,\n",
    "    evaluation_strategy=\"epoch\",\n",
    "    save_strategy=\"epoch\",\n",
    "    load_best_model_at_end=True,\n",
    ")\n",
    "\n",
    "# Initialize the Trainer with compute_metrics\n",
    "peft_trainer = Trainer(\n",
    "    model=lora_model,\n",
    "    args=peft_training_args,\n",
    "    train_dataset=train_dataset,\n",
    "    eval_dataset=test_dataset,\n",
    "    compute_metrics=compute_metrics,\n",
    "    tokenizer=tokenizer,\n",
    "    data_collator=DataCollatorWithPadding(tokenizer=tokenizer),\n",
    ")\n"
   ]
  },
  {
   "cell_type": "code",
   "execution_count": 18,
   "id": "d39a4f7e-f6c1-4c16-94d7-ab130936b0d8",
   "metadata": {},
   "outputs": [
    {
     "name": "stderr",
     "output_type": "stream",
     "text": [
      "The following columns in the training set don't have a corresponding argument in `PeftModelForSequenceClassification.forward` and have been ignored: sms. If sms are not expected by `PeftModelForSequenceClassification.forward`,  you can safely ignore this message.\n",
      "/Users/badiaa/Perso/Edu/AI/udacity/chatbot2/chatbot2env/lib/python3.10/site-packages/transformers/optimization.py:306: FutureWarning: This implementation of AdamW is deprecated and will be removed in a future version. Use the PyTorch implementation torch.optim.AdamW instead, or set `no_deprecation_warning=True` to disable this warning\n",
      "  warnings.warn(\n",
      "***** Running training *****\n",
      "  Num examples = 4459\n",
      "  Num Epochs = 1\n",
      "  Instantaneous batch size per device = 16\n",
      "  Total train batch size (w. parallel, distributed & accumulation) = 16\n",
      "  Gradient Accumulation steps = 1\n",
      "  Total optimization steps = 279\n",
      "  Number of trainable parameters = 148992\n"
     ]
    },
    {
     "data": {
      "text/html": [
       "\n",
       "    <div>\n",
       "      \n",
       "      <progress value='279' max='279' style='width:300px; height:20px; vertical-align: middle;'></progress>\n",
       "      [279/279 6:01:21, Epoch 1/1]\n",
       "    </div>\n",
       "    <table border=\"1\" class=\"dataframe\">\n",
       "  <thead>\n",
       " <tr style=\"text-align: left;\">\n",
       "      <th>Epoch</th>\n",
       "      <th>Training Loss</th>\n",
       "      <th>Validation Loss</th>\n",
       "      <th>Accuracy</th>\n",
       "    </tr>\n",
       "  </thead>\n",
       "  <tbody>\n",
       "    <tr>\n",
       "      <td>1</td>\n",
       "      <td>No log</td>\n",
       "      <td>0.684835</td>\n",
       "      <td>0.730045</td>\n",
       "    </tr>\n",
       "  </tbody>\n",
       "</table><p>"
      ],
      "text/plain": [
       "<IPython.core.display.HTML object>"
      ]
     },
     "metadata": {},
     "output_type": "display_data"
    },
    {
     "name": "stderr",
     "output_type": "stream",
     "text": [
      "The following columns in the evaluation set don't have a corresponding argument in `PeftModelForSequenceClassification.forward` and have been ignored: sms. If sms are not expected by `PeftModelForSequenceClassification.forward`,  you can safely ignore this message.\n",
      "***** Running Evaluation *****\n",
      "  Num examples = 1115\n",
      "  Batch size = 16\n",
      "Saving model checkpoint to ./results/peft_model/checkpoint-279\n",
      "Trainer.model is not a `PreTrainedModel`, only saving its state dict.\n",
      "tokenizer config file saved in ./results/peft_model/checkpoint-279/tokenizer_config.json\n",
      "Special tokens file saved in ./results/peft_model/checkpoint-279/special_tokens_map.json\n",
      "\n",
      "\n",
      "Training completed. Do not forget to share your model on huggingface.co/models =)\n",
      "\n",
      "\n",
      "Loading best model from ./results/peft_model/checkpoint-279 (score: 0.6848347187042236).\n"
     ]
    },
    {
     "data": {
      "text/plain": [
       "TrainOutput(global_step=279, training_loss=1.5568949381510417, metrics={'train_runtime': 21741.7659, 'train_samples_per_second': 0.205, 'train_steps_per_second': 0.013, 'total_flos': 2334326220914688.0, 'train_loss': 1.5568949381510417, 'epoch': 1.0})"
      ]
     },
     "execution_count": 18,
     "metadata": {},
     "output_type": "execute_result"
    }
   ],
   "source": [
    "# Run the trainer\n",
    "peft_trainer.train()"
   ]
  },
  {
   "cell_type": "markdown",
   "id": "5db8f786-5bab-46c2-abfb-a79b7a2edc48",
   "metadata": {},
   "source": [
    "## Save the PEFT model"
   ]
  },
  {
   "cell_type": "code",
   "execution_count": 19,
   "id": "c94fd88b-2c00-4f89-b869-8cd5cf6327f0",
   "metadata": {
    "scrolled": true
   },
   "outputs": [
    {
     "name": "stderr",
     "output_type": "stream",
     "text": [
      "/Users/badiaa/Perso/Edu/AI/udacity/chatbot2/chatbot2env/lib/python3.10/site-packages/huggingface_hub/file_download.py:1132: FutureWarning: `resume_download` is deprecated and will be removed in version 1.0.0. Downloads always resume when possible. If you want to force a new download, use `force_download=True`.\n",
      "  warnings.warn(\n",
      "loading configuration file config.json from cache at /Users/badiaa/.cache/huggingface/hub/models--gpt2/snapshots/607a30d783dfa663caf39e06633721c8d4cfcd7e/config.json\n",
      "Model config GPT2Config {\n",
      "  \"activation_function\": \"gelu_new\",\n",
      "  \"architectures\": [\n",
      "    \"GPT2LMHeadModel\"\n",
      "  ],\n",
      "  \"attn_pdrop\": 0.1,\n",
      "  \"bos_token_id\": 50256,\n",
      "  \"embd_pdrop\": 0.1,\n",
      "  \"eos_token_id\": 50256,\n",
      "  \"initializer_range\": 0.02,\n",
      "  \"layer_norm_epsilon\": 1e-05,\n",
      "  \"model_type\": \"gpt2\",\n",
      "  \"n_ctx\": 1024,\n",
      "  \"n_embd\": 768,\n",
      "  \"n_head\": 12,\n",
      "  \"n_inner\": null,\n",
      "  \"n_layer\": 12,\n",
      "  \"n_positions\": 1024,\n",
      "  \"reorder_and_upcast_attn\": false,\n",
      "  \"resid_pdrop\": 0.1,\n",
      "  \"scale_attn_by_inverse_layer_idx\": false,\n",
      "  \"scale_attn_weights\": true,\n",
      "  \"summary_activation\": null,\n",
      "  \"summary_first_dropout\": 0.1,\n",
      "  \"summary_proj_to_labels\": true,\n",
      "  \"summary_type\": \"cls_index\",\n",
      "  \"summary_use_proj\": true,\n",
      "  \"task_specific_params\": {\n",
      "    \"text-generation\": {\n",
      "      \"do_sample\": true,\n",
      "      \"max_length\": 50\n",
      "    }\n",
      "  },\n",
      "  \"transformers_version\": \"4.25.1\",\n",
      "  \"use_cache\": true,\n",
      "  \"vocab_size\": 50257\n",
      "}\n",
      "\n"
     ]
    }
   ],
   "source": [
    "lora_model.save_pretrained(\"gpt-lora\")"
   ]
  },
  {
   "cell_type": "markdown",
   "id": "aa25614d-ea09-41c2-8a75-5a039bcb53d1",
   "metadata": {},
   "source": [
    "# 3) Perform Inference Using the Fine-Tuned Model"
   ]
  },
  {
   "cell_type": "markdown",
   "id": "6d11924c-49be-4efc-9563-6e1c272f07af",
   "metadata": {},
   "source": [
    "## Load the saved PEFT model"
   ]
  },
  {
   "cell_type": "code",
   "execution_count": 20,
   "id": "71ddcbcf-f21d-4faf-8221-d85560cdbd47",
   "metadata": {},
   "outputs": [
    {
     "name": "stderr",
     "output_type": "stream",
     "text": [
      "loading configuration file config.json from cache at /Users/badiaa/.cache/huggingface/hub/models--gpt2/snapshots/607a30d783dfa663caf39e06633721c8d4cfcd7e/config.json\n",
      "Model config GPT2Config {\n",
      "  \"_name_or_path\": \"gpt2\",\n",
      "  \"activation_function\": \"gelu_new\",\n",
      "  \"architectures\": [\n",
      "    \"GPT2LMHeadModel\"\n",
      "  ],\n",
      "  \"attn_pdrop\": 0.1,\n",
      "  \"bos_token_id\": 50256,\n",
      "  \"embd_pdrop\": 0.1,\n",
      "  \"eos_token_id\": 50256,\n",
      "  \"id2label\": {\n",
      "    \"0\": \"not spam\",\n",
      "    \"1\": \"spam\"\n",
      "  },\n",
      "  \"initializer_range\": 0.02,\n",
      "  \"label2id\": {\n",
      "    \"not spam\": 0,\n",
      "    \"spam\": 1\n",
      "  },\n",
      "  \"layer_norm_epsilon\": 1e-05,\n",
      "  \"model_type\": \"gpt2\",\n",
      "  \"n_ctx\": 1024,\n",
      "  \"n_embd\": 768,\n",
      "  \"n_head\": 12,\n",
      "  \"n_inner\": null,\n",
      "  \"n_layer\": 12,\n",
      "  \"n_positions\": 1024,\n",
      "  \"reorder_and_upcast_attn\": false,\n",
      "  \"resid_pdrop\": 0.1,\n",
      "  \"scale_attn_by_inverse_layer_idx\": false,\n",
      "  \"scale_attn_weights\": true,\n",
      "  \"summary_activation\": null,\n",
      "  \"summary_first_dropout\": 0.1,\n",
      "  \"summary_proj_to_labels\": true,\n",
      "  \"summary_type\": \"cls_index\",\n",
      "  \"summary_use_proj\": true,\n",
      "  \"task_specific_params\": {\n",
      "    \"text-generation\": {\n",
      "      \"do_sample\": true,\n",
      "      \"max_length\": 50\n",
      "    }\n",
      "  },\n",
      "  \"transformers_version\": \"4.25.1\",\n",
      "  \"use_cache\": true,\n",
      "  \"vocab_size\": 50257\n",
      "}\n",
      "\n",
      "loading weights file model.safetensors from cache at /Users/badiaa/.cache/huggingface/hub/models--gpt2/snapshots/607a30d783dfa663caf39e06633721c8d4cfcd7e/model.safetensors\n",
      "All model checkpoint weights were used when initializing GPT2ForSequenceClassification.\n",
      "\n",
      "Some weights of GPT2ForSequenceClassification were not initialized from the model checkpoint at gpt2 and are newly initialized: ['score.weight']\n",
      "You should probably TRAIN this model on a down-stream task to be able to use it for predictions and inference.\n"
     ]
    }
   ],
   "source": [
    "finetuned_model = AutoPeftModelForSequenceClassification.from_pretrained(\n",
    "    \"gpt-lora\",\n",
    "    num_labels=2,\n",
    "    id2label={0: \"not spam\", 1: \"spam\"},\n",
    "    label2id={\"not spam\": 0, \"spam\": 1},\n",
    ")\n",
    "\n",
    "finetuned_model.config.pad_token_id = finetuned_model.config.eos_token_id\n",
    "\n",
    "# finetuned_model.print_trainable_parameters()"
   ]
  },
  {
   "cell_type": "markdown",
   "id": "c66d936b-eb7d-4fa8-a2c8-0d559404e1b8",
   "metadata": {},
   "source": [
    "## Evaluate the fine-tuned model"
   ]
  },
  {
   "cell_type": "code",
   "execution_count": 21,
   "id": "a3fb3583-94c2-44e0-b8f0-16943e0d1fee",
   "metadata": {},
   "outputs": [
    {
     "name": "stderr",
     "output_type": "stream",
     "text": [
      "PyTorch: setting up devices\n",
      "The default value for the training argument `--report_to` will change in v5 (from all installed integrations to none). In v5, you will need to use `--report_to all` to get the same behavior as now. You should start updating your code and make this info disappear :-).\n"
     ]
    }
   ],
   "source": [
    "peft_training_args = TrainingArguments(\n",
    "    output_dir=\"./results/inference_model\",\n",
    "    learning_rate=2e-5,\n",
    "    per_device_train_batch_size=32,\n",
    "    per_device_eval_batch_size=32,\n",
    "    num_train_epochs=1,\n",
    "    weight_decay=0.01,\n",
    "    evaluation_strategy=\"epoch\",\n",
    "    save_strategy=\"epoch\",\n",
    "    load_best_model_at_end=True,\n",
    ")\n",
    "\n",
    "trainer = Trainer(\n",
    "    model=finetuned_model, # using the fine-tuned model\n",
    "    args=peft_training_args,\n",
    "    # train_dataset=train_dataset,\n",
    "    eval_dataset=test_dataset,\n",
    "    compute_metrics=compute_metrics,\n",
    "    tokenizer=tokenizer,\n",
    "    data_collator=DataCollatorWithPadding(tokenizer=tokenizer),\n",
    ")\n"
   ]
  },
  {
   "cell_type": "code",
   "execution_count": 22,
   "id": "9cb258f9-c27e-41e5-84a1-072644741c0c",
   "metadata": {},
   "outputs": [
    {
     "name": "stderr",
     "output_type": "stream",
     "text": [
      "The following columns in the evaluation set don't have a corresponding argument in `PeftModelForSequenceClassification.forward` and have been ignored: sms. If sms are not expected by `PeftModelForSequenceClassification.forward`,  you can safely ignore this message.\n",
      "***** Running Evaluation *****\n",
      "  Num examples = 1115\n",
      "  Batch size = 32\n"
     ]
    },
    {
     "data": {
      "text/html": [
       "\n",
       "    <div>\n",
       "      \n",
       "      <progress value='35' max='35' style='width:300px; height:20px; vertical-align: middle;'></progress>\n",
       "      [35/35 17:01]\n",
       "    </div>\n",
       "    "
      ],
      "text/plain": [
       "<IPython.core.display.HTML object>"
      ]
     },
     "metadata": {},
     "output_type": "display_data"
    },
    {
     "name": "stdout",
     "output_type": "stream",
     "text": [
      "Evaluation Results: {'eval_loss': 0.6848347187042236, 'eval_accuracy': 0.7300448430493274, 'eval_runtime': 1054.7201, 'eval_samples_per_second': 1.057, 'eval_steps_per_second': 0.033}\n"
     ]
    }
   ],
   "source": [
    "# Evaluate the fine-tuned model\n",
    "evaluation_results_peft = trainer.evaluate()\n",
    "print(\"Evaluation Results:\", evaluation_results_peft)"
   ]
  },
  {
   "cell_type": "markdown",
   "id": "30887af6-5601-4227-805c-d95067a3b63a",
   "metadata": {},
   "source": [
    "# 4) Conclusion"
   ]
  },
  {
   "cell_type": "markdown",
   "id": "9a04d817-0b6e-4728-a362-f8fa4323c4b6",
   "metadata": {},
   "source": [
    "The accuracy of the foundation model shows up as 0.13 while the PEFT fine-tuned model has an accuracy of 0.73 which is a clear improvement."
   ]
  },
  {
   "cell_type": "code",
   "execution_count": null,
   "id": "839a7225-a6f3-4219-8145-7181b412af14",
   "metadata": {},
   "outputs": [],
   "source": []
  }
 ],
 "metadata": {
  "kernelspec": {
   "display_name": "chatbot2env",
   "language": "python",
   "name": "chatbot2env"
  },
  "language_info": {
   "codemirror_mode": {
    "name": "ipython",
    "version": 3
   },
   "file_extension": ".py",
   "mimetype": "text/x-python",
   "name": "python",
   "nbconvert_exporter": "python",
   "pygments_lexer": "ipython3",
   "version": "3.10.9"
  }
 },
 "nbformat": 4,
 "nbformat_minor": 5
}
